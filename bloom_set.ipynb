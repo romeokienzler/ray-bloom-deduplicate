{
 "cells": [
  {
   "cell_type": "code",
   "execution_count": 21,
   "metadata": {},
   "outputs": [],
   "source": [
    "import os\n",
    "import psutil\n",
    "import pyarrow.parquet as pq\n",
    "import pyarrow as pa\n",
    "import ray\n",
    "from ray import remote\n",
    "import hashlib"
   ]
  },
  {
   "cell_type": "code",
   "execution_count": 22,
   "metadata": {},
   "outputs": [
    {
     "name": "stderr",
     "output_type": "stream",
     "text": [
      "2023-02-07 16:57:05,788\tWARNING worker.py:1301 -- File descriptor limit 2048 is too low for production servers and may result in connection errors. At least 8192 is recommended. --- Fix with 'ulimit -n 8192'\n",
      "2023-02-07 16:57:07,821\tINFO worker.py:1529 -- Started a local Ray instance. View the dashboard at \u001b[1m\u001b[32m127.0.0.1:8265 \u001b[39m\u001b[22m\n"
     ]
    },
    {
     "data": {
      "text/html": [
       "<div>\n",
       "    <div style=\"margin-left: 50px;display: flex;flex-direction: row;align-items: center\">\n",
       "        <h3 style=\"color: var(--jp-ui-font-color0)\">Ray</h3>\n",
       "        <svg version=\"1.1\" id=\"ray\" width=\"3em\" viewBox=\"0 0 144.5 144.6\" style=\"margin-left: 3em;margin-right: 3em\">\n",
       "            <g id=\"layer-1\">\n",
       "                <path fill=\"#00a2e9\" class=\"st0\" d=\"M97.3,77.2c-3.8-1.1-6.2,0.9-8.3,5.1c-3.5,6.8-9.9,9.9-17.4,9.6S58,88.1,54.8,81.2c-1.4-3-3-4-6.3-4.1\n",
       "                    c-5.6-0.1-9.9,0.1-13.1,6.4c-3.8,7.6-13.6,10.2-21.8,7.6C5.2,88.4-0.4,80.5,0,71.7c0.1-8.4,5.7-15.8,13.8-18.2\n",
       "                    c8.4-2.6,17.5,0.7,22.3,8c1.3,1.9,1.3,5.2,3.6,5.6c3.9,0.6,8,0.2,12,0.2c1.8,0,1.9-1.6,2.4-2.8c3.5-7.8,9.7-11.8,18-11.9\n",
       "                    c8.2-0.1,14.4,3.9,17.8,11.4c1.3,2.8,2.9,3.6,5.7,3.3c1-0.1,2,0.1,3,0c2.8-0.5,6.4,1.7,8.1-2.7s-2.3-5.5-4.1-7.5\n",
       "                    c-5.1-5.7-10.9-10.8-16.1-16.3C84,38,81.9,37.1,78,38.3C66.7,42,56.2,35.7,53,24.1C50.3,14,57.3,2.8,67.7,0.5\n",
       "                    C78.4-2,89,4.7,91.5,15.3c0.1,0.3,0.1,0.5,0.2,0.8c0.7,3.4,0.7,6.9-0.8,9.8c-1.7,3.2-0.8,5,1.5,7.2c6.7,6.5,13.3,13,19.8,19.7\n",
       "                    c1.8,1.8,3,2.1,5.5,1.2c9.1-3.4,17.9-0.6,23.4,7c4.8,6.9,4.6,16.1-0.4,22.9c-5.4,7.2-14.2,9.9-23.1,6.5c-2.3-0.9-3.5-0.6-5.1,1.1\n",
       "                    c-6.7,6.9-13.6,13.7-20.5,20.4c-1.8,1.8-2.5,3.2-1.4,5.9c3.5,8.7,0.3,18.6-7.7,23.6c-7.9,5-18.2,3.8-24.8-2.9\n",
       "                    c-6.4-6.4-7.4-16.2-2.5-24.3c4.9-7.8,14.5-11,23.1-7.8c3,1.1,4.7,0.5,6.9-1.7C91.7,98.4,98,92.3,104.2,86c1.6-1.6,4.1-2.7,2.6-6.2\n",
       "                    c-1.4-3.3-3.8-2.5-6.2-2.6C99.8,77.2,98.9,77.2,97.3,77.2z M72.1,29.7c5.5,0.1,9.9-4.3,10-9.8c0-0.1,0-0.2,0-0.3\n",
       "                    C81.8,14,77,9.8,71.5,10.2c-5,0.3-9,4.2-9.3,9.2c-0.2,5.5,4,10.1,9.5,10.3C71.8,29.7,72,29.7,72.1,29.7z M72.3,62.3\n",
       "                    c-5.4-0.1-9.9,4.2-10.1,9.7c0,0.2,0,0.3,0,0.5c0.2,5.4,4.5,9.7,9.9,10c5.1,0.1,9.9-4.7,10.1-9.8c0.2-5.5-4-10-9.5-10.3\n",
       "                    C72.6,62.3,72.4,62.3,72.3,62.3z M115,72.5c0.1,5.4,4.5,9.7,9.8,9.9c5.6-0.2,10-4.8,10-10.4c-0.2-5.4-4.6-9.7-10-9.7\n",
       "                    c-5.3-0.1-9.8,4.2-9.9,9.5C115,72.1,115,72.3,115,72.5z M19.5,62.3c-5.4,0.1-9.8,4.4-10,9.8c-0.1,5.1,5.2,10.4,10.2,10.3\n",
       "                    c5.6-0.2,10-4.9,9.8-10.5c-0.1-5.4-4.5-9.7-9.9-9.6C19.6,62.3,19.5,62.3,19.5,62.3z M71.8,134.6c5.9,0.2,10.3-3.9,10.4-9.6\n",
       "                    c0.5-5.5-3.6-10.4-9.1-10.8c-5.5-0.5-10.4,3.6-10.8,9.1c0,0.5,0,0.9,0,1.4c-0.2,5.3,4,9.8,9.3,10\n",
       "                    C71.6,134.6,71.7,134.6,71.8,134.6z\"/>\n",
       "            </g>\n",
       "        </svg>\n",
       "        <table>\n",
       "            <tr>\n",
       "                <td style=\"text-align: left\"><b>Python version:</b></td>\n",
       "                <td style=\"text-align: left\"><b>3.10.9</b></td>\n",
       "            </tr>\n",
       "            <tr>\n",
       "                <td style=\"text-align: left\"><b>Ray version:</b></td>\n",
       "                <td style=\"text-align: left\"><b> 2.2.0</b></td>\n",
       "            </tr>\n",
       "            <tr>\n",
       "    <td style=\"text-align: left\"><b>Dashboard:</b></td>\n",
       "    <td style=\"text-align: left\"><b><a href=\"http://127.0.0.1:8265\" target=\"_blank\">http://127.0.0.1:8265</a></b></td>\n",
       "</tr>\n",
       "\n",
       "        </table>\n",
       "    </div>\n",
       "</div>\n"
      ],
      "text/plain": [
       "RayContext(dashboard_url='127.0.0.1:8265', python_version='3.10.9', ray_version='2.2.0', ray_commit='b6af0887ee5f2e460202133791ad941a41f15beb', address_info={'node_ip_address': '192.168.181.154', 'raylet_ip_address': '192.168.181.154', 'redis_address': None, 'object_store_address': '/tmp/ray/session_2023-02-07_16-57-05_829276_308659/sockets/plasma_store', 'raylet_socket_name': '/tmp/ray/session_2023-02-07_16-57-05_829276_308659/sockets/raylet', 'webui_url': '127.0.0.1:8265', 'session_dir': '/tmp/ray/session_2023-02-07_16-57-05_829276_308659', 'metrics_export_port': 52584, 'gcs_address': '192.168.181.154:50977', 'address': '192.168.181.154:50977', 'dashboard_agent_listen_port': 52365, 'node_id': '9c7ff7f2232fa21b507e6a619875c2a36c7df5385e6340448cbabf57'})"
      ]
     },
     "execution_count": 22,
     "metadata": {},
     "output_type": "execute_result"
    }
   ],
   "source": [
    "ray.shutdown()\n",
    "#ray.init(address='ray://localhost:10001')\n",
    "ray.init()"
   ]
  },
  {
   "cell_type": "code",
   "execution_count": 23,
   "metadata": {},
   "outputs": [],
   "source": [
    "@remote\n",
    "class BloomSet():\n",
    "    def __init__(self, hash_truncation):\n",
    "        self.db = {}\n",
    "        self.hash_truncation = hash_truncation\n",
    "\n",
    "    def sha256(self, s): return hashlib.sha256(s.encode()).hexdigest()\n",
    "\n",
    "    def add_to_set(self, s : str):\n",
    "        hash = self.sha256(s)\n",
    "        key = hash[:self.hash_truncation]\n",
    "        if key not in self.db.keys():\n",
    "            self.db[key]=[hash]\n",
    "            return False\n",
    "        else:\n",
    "            if hash in self.db[key]:\n",
    "                return True\n",
    "            else:\n",
    "                self.db[key].append(hash)\n",
    "                return False\n",
    "\n",
    "    def save(self, file_name):\n",
    "        m1 = self.get_memory_footprint()\n",
    "        pt = pa.Table.from_pydict(self.db)\n",
    "        m2 = self.get_memory_footprint()\n",
    "        pa.parquet.write_table(pt, f'{file_name}')\n",
    "        m3 = self.get_memory_footprint()\n",
    "        return (m1, m2, m3)\n",
    "\n",
    "    def save1(self):\n",
    "        m1 = self.get_memory_footprint()\n",
    "        self.pt = pa.Table.from_pydict(self.db)\n",
    "        m2 = self.get_memory_footprint()\n",
    "        return (m1, m2)\n",
    "\n",
    "    def save2(self, file_name):\n",
    "        pa.parquet.write_table(self.pt, f'{file_name}')\n",
    "        m3 = self.get_memory_footprint()\n",
    "        return m3\n",
    "\n",
    "    # in megabyte\n",
    "    def get_memory_footprint(self):\n",
    "        process = psutil.Process(os.getpid())\n",
    "        return process.memory_info().rss/1024/1024"
   ]
  },
  {
   "cell_type": "code",
   "execution_count": 31,
   "metadata": {},
   "outputs": [],
   "source": [
    "@remote\n",
    "class BloomSet():\n",
    "    def __init__(self, hash_truncation):\n",
    "        self.db_index = []\n",
    "        self.db = []\n",
    "        self.hash_truncation = hash_truncation\n",
    "\n",
    "    def sha256(self, s): return hashlib.sha256(s.encode()).hexdigest()\n",
    "\n",
    "    def add_to_set(self, s : str):\n",
    "        hash = self.sha256(s)\n",
    "        key = hash[:self.hash_truncation]\n",
    "        if key not in self.db_index:\n",
    "            self.db_index.append(key)\n",
    "            self.db.append([hash])\n",
    "            return False\n",
    "        else:\n",
    "            if hash in self.db[self.db_index.index(key)]:\n",
    "                return True\n",
    "            else:\n",
    "                self.db[self.db_index.index(key)].append(hash)\n",
    "                return False\n",
    "\n",
    "    def save(self, file_name):\n",
    "        names = ['index','hash_list']\n",
    "        \n",
    "        m1 = self.get_memory_footprint()\n",
    "        table = pa.Table.from_arrays([pa.array(self.db_index), pa.array(self.db)], names=names)\n",
    "        \n",
    "        m2 = self.get_memory_footprint()\n",
    "        pa.parquet.write_table(table, f'{file_name}')\n",
    "        \n",
    "        m3 = self.get_memory_footprint()\n",
    "        return (m1, m2, m3)\n",
    "\n",
    "\n",
    "\n",
    "\n",
    "    # in megabyte\n",
    "    def get_memory_footprint(self):\n",
    "        process = psutil.Process(os.getpid())\n",
    "        return process.memory_info().rss/1024/1024"
   ]
  },
  {
   "cell_type": "code",
   "execution_count": 32,
   "metadata": {},
   "outputs": [],
   "source": [
    "bs = BloomSet.remote(4)\n"
   ]
  },
  {
   "cell_type": "code",
   "execution_count": 33,
   "metadata": {},
   "outputs": [
    {
     "data": {
      "text/plain": [
       "False"
      ]
     },
     "execution_count": 33,
     "metadata": {},
     "output_type": "execute_result"
    }
   ],
   "source": [
    "ray.get(bs.add_to_set.remote('test1'))"
   ]
  },
  {
   "cell_type": "code",
   "execution_count": 34,
   "metadata": {},
   "outputs": [
    {
     "data": {
      "text/plain": [
       "False"
      ]
     },
     "execution_count": 34,
     "metadata": {},
     "output_type": "execute_result"
    }
   ],
   "source": [
    "ray.get(bs.add_to_set.remote('test2'))"
   ]
  },
  {
   "cell_type": "code",
   "execution_count": 35,
   "metadata": {},
   "outputs": [
    {
     "data": {
      "text/plain": [
       "True"
      ]
     },
     "execution_count": 35,
     "metadata": {},
     "output_type": "execute_result"
    }
   ],
   "source": [
    "ray.get(bs.add_to_set.remote('test1'))"
   ]
  },
  {
   "attachments": {},
   "cell_type": "markdown",
   "metadata": {},
   "source": [
    "Test memory consumption, result:\n",
    "Insert 10k keys into the BloomFilter, memory went up from 115.18MB to 117.93MB, so approx. 288 byte per entry "
   ]
  },
  {
   "cell_type": "code",
   "execution_count": 39,
   "metadata": {},
   "outputs": [
    {
     "name": "stdout",
     "output_type": "stream",
     "text": [
      "123.91796875\n",
      "131.703125\n",
      "139.23828125\n",
      "140.01171875\n",
      "141.30078125\n",
      "148.51953125\n",
      "148.9296875\n",
      "149.18359375\n",
      "150.47265625\n",
      "150.98828125\n"
     ]
    }
   ],
   "source": [
    "for i in range(100000):\n",
    "    bs.add_to_set.remote(f'test{i}')\n",
    "    if i % 10000 == 0:\n",
    "        print(ray.get(bs.get_memory_footprint.remote()))"
   ]
  },
  {
   "cell_type": "markdown",
   "metadata": {},
   "source": [
    "Inserted 10k keys into the BloomFilter and went up from 115.18MB to 117.93MB, so approx. 288 byte per entry "
   ]
  },
  {
   "cell_type": "code",
   "execution_count": 41,
   "metadata": {},
   "outputs": [],
   "source": [
    "ray.get(bs.save.remote('/tmp/db.parquet'))"
   ]
  },
  {
   "cell_type": "code",
   "execution_count": 14,
   "metadata": {},
   "outputs": [
    {
     "ename": "TypeError",
     "evalue": "Do not call DataType's constructor directly, use public functions like pyarrow.int64, pyarrow.list_, etc. instead.",
     "output_type": "error",
     "traceback": [
      "\u001b[0;31m---------------------------------------------------------------------------\u001b[0m",
      "\u001b[0;31mTypeError\u001b[0m                                 Traceback (most recent call last)",
      "Cell \u001b[0;32mIn[14], line 3\u001b[0m\n\u001b[1;32m      1\u001b[0m \u001b[39mfrom\u001b[39;00m \u001b[39mpyarrow\u001b[39;00m \u001b[39mimport\u001b[39;00m dictionary\n\u001b[1;32m      2\u001b[0m \u001b[39mfrom\u001b[39;00m \u001b[39mpyarrow\u001b[39;00m \u001b[39mimport\u001b[39;00m DataType, string, ListType\n\u001b[0;32m----> 3\u001b[0m d \u001b[39m=\u001b[39m dictionary(DataType(),DataType())\n",
      "File \u001b[0;32m~/gitco/ray-bloom-deduplicate/venv/lib64/python3.10/site-packages/pyarrow/types.pxi:134\u001b[0m, in \u001b[0;36mpyarrow.lib.DataType.__init__\u001b[0;34m()\u001b[0m\n",
      "\u001b[0;31mTypeError\u001b[0m: Do not call DataType's constructor directly, use public functions like pyarrow.int64, pyarrow.list_, etc. instead."
     ]
    }
   ],
   "source": [
    "from pyarrow import dictionary\n",
    "from pyarrow import DataType, string, ListType\n",
    "d = dictionary(DataType(),DataType())"
   ]
  },
  {
   "cell_type": "code",
   "execution_count": 16,
   "metadata": {},
   "outputs": [
    {
     "ename": "TypeError",
     "evalue": "Do not call DictionaryArray's constructor directly, use one of the `pyarrow.Array.from_*` functions instead.",
     "output_type": "error",
     "traceback": [
      "\u001b[0;31m---------------------------------------------------------------------------\u001b[0m",
      "\u001b[0;31mTypeError\u001b[0m                                 Traceback (most recent call last)",
      "Cell \u001b[0;32mIn[16], line 1\u001b[0m\n\u001b[0;32m----> 1\u001b[0m dict_array \u001b[39m=\u001b[39m pa\u001b[39m.\u001b[39;49mDictionaryArray()\n",
      "File \u001b[0;32m~/gitco/ray-bloom-deduplicate/venv/lib64/python3.10/site-packages/pyarrow/array.pxi:858\u001b[0m, in \u001b[0;36mpyarrow.lib.Array.__init__\u001b[0;34m()\u001b[0m\n",
      "\u001b[0;31mTypeError\u001b[0m: Do not call DictionaryArray's constructor directly, use one of the `pyarrow.Array.from_*` functions instead."
     ]
    }
   ],
   "source": [
    "dict_array = pa.DictionaryArray()"
   ]
  },
  {
   "cell_type": "code",
   "execution_count": 20,
   "metadata": {},
   "outputs": [
    {
     "ename": "AttributeError",
     "evalue": "'pyarrow.lib.NullArray' object has no attribute 'add'",
     "output_type": "error",
     "traceback": [
      "\u001b[0;31m---------------------------------------------------------------------------\u001b[0m",
      "\u001b[0;31mAttributeError\u001b[0m                            Traceback (most recent call last)",
      "Cell \u001b[0;32mIn[20], line 2\u001b[0m\n\u001b[1;32m      1\u001b[0m array \u001b[39m=\u001b[39m pa\u001b[39m.\u001b[39marray([])\n\u001b[0;32m----> 2\u001b[0m array\u001b[39m.\u001b[39;49madd(\u001b[39m'\u001b[39m\u001b[39ms\u001b[39m\u001b[39m'\u001b[39m)\n",
      "\u001b[0;31mAttributeError\u001b[0m: 'pyarrow.lib.NullArray' object has no attribute 'add'"
     ]
    }
   ],
   "source": [
    "array = pa.array([])\n",
    "array.add('s')"
   ]
  },
  {
   "cell_type": "code",
   "execution_count": null,
   "metadata": {},
   "outputs": [],
   "source": []
  }
 ],
 "metadata": {
  "kernelspec": {
   "display_name": "venv",
   "language": "python",
   "name": "python3"
  },
  "language_info": {
   "codemirror_mode": {
    "name": "ipython",
    "version": 3
   },
   "file_extension": ".py",
   "mimetype": "text/x-python",
   "name": "python",
   "nbconvert_exporter": "python",
   "pygments_lexer": "ipython3",
   "version": "3.10.9"
  },
  "orig_nbformat": 4,
  "vscode": {
   "interpreter": {
    "hash": "c08843180bd44073d606cc2b23db096dbc2d118c86250b23987def1898e0f7e5"
   }
  }
 },
 "nbformat": 4,
 "nbformat_minor": 2
}
